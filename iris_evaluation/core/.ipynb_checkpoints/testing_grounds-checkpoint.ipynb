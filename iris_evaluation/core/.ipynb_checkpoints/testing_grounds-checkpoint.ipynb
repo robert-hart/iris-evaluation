{
 "cells": [
  {
   "cell_type": "code",
   "execution_count": 1,
   "id": "4798e452-3641-4cfd-bd17-04febc9bd9be",
   "metadata": {},
   "outputs": [
    {
     "name": "stdout",
     "output_type": "stream",
     "text": [
      "Apple Silicon found: defaulting to MPS.\n"
     ]
    }
   ],
   "source": [
    "import numpy as np\n",
    "import torch\n",
    "from tqdm import tqdm\n",
    "from torch.utils.data import DataLoader\n",
    "from CodeLoaders import RolledCodes, UnrolledCodes\n",
    "from CacheHandler import LinearCache\n",
    "\n",
    "def find_device():\n",
    "    device = 'cpu'\n",
    "    if torch.cuda.is_available(): #check if NVIDIA gpu is availible\n",
    "        device = 'cuda:0'\n",
    "        print(\"CUDA device found: defaulting to CUDA device 0.\")\n",
    "    elif torch.backends.mps.is_available():\n",
    "        device = 'mps'\n",
    "        print(\"Apple Silicon found: defaulting to MPS.\")\n",
    "    else:\n",
    "        warnings.warn(\"No CUDA device or Apple Silicon found. Operations may be slow...\")\n",
    "\n",
    "    return device\n",
    "\n",
    "batch_size = 4\n",
    "device = find_device()\n",
    "\n",
    "reference = np.load('/Users/roberthart/Documents/GitHub/iris-evaluation/data/256_linear-GABOR_EXTRACTED.npz', allow_pickle=True)\n",
    "comparison = np.load('/Users/roberthart/Documents/GitHub/iris-evaluation/data/256_linear-GABOR_EXTRACTED.npz', allow_pickle=True)\n",
    "#comparison_test = np.load('/Users/roberthart/Documents/GitHub/iris-evaluation/data/comparison/256_2.npz', allow_pickle=True)"
   ]
  },
  {
   "cell_type": "code",
   "execution_count": 2,
   "id": "de02c3bb-4b5e-4a10-a0ac-8f593211e04d",
   "metadata": {},
   "outputs": [],
   "source": [
    "reference_dataset = RolledCodes(reference)\n",
    "reference_loader = DataLoader(reference_dataset, batch_size=batch_size, pin_memory=True, shuffle=False)\n"
   ]
  },
  {
   "cell_type": "code",
   "execution_count": 3,
   "id": "ef2c1221-bbbe-48fd-883e-6ace775ea901",
   "metadata": {},
   "outputs": [],
   "source": [
    "def find_conditions(comparison_names):\n",
    "    conditions = []\n",
    "    for comparison_name in comparison_names:\n",
    "        condition = None\n",
    "        try:\n",
    "            condition = comparison_name.split('___cond___')[1]\n",
    "        except:\n",
    "            condition = 'NA_NA'\n",
    "            \n",
    "        conditions.append(condition)\n",
    "        \n",
    "    return tuple(conditions)"
   ]
  },
  {
   "cell_type": "code",
   "execution_count": 4,
   "id": "141e68c2-a8f5-46be-a6b7-2ff203eeb307",
   "metadata": {},
   "outputs": [],
   "source": [
    "comparison_dataset = UnrolledCodes(comparison)\n",
    "comparison_loader = DataLoader(comparison_dataset, batch_size=batch_size, pin_memory=True, shuffle=False)"
   ]
  },
  {
   "cell_type": "code",
   "execution_count": 5,
   "id": "dea732b8-6ffc-4cdd-8d59-53ad35776f90",
   "metadata": {},
   "outputs": [
    {
     "ename": "NameError",
     "evalue": "name 'CacheHandler' is not defined",
     "output_type": "error",
     "traceback": [
      "\u001b[0;31m---------------------------------------------------------------------------\u001b[0m",
      "\u001b[0;31mNameError\u001b[0m                                 Traceback (most recent call last)",
      "Cell \u001b[0;32mIn[5], line 1\u001b[0m\n\u001b[0;32m----> 1\u001b[0m Cache \u001b[38;5;241m=\u001b[39m \u001b[43mCacheHandler\u001b[49m(\u001b[38;5;124m'\u001b[39m\u001b[38;5;124m/Users/roberthart/Documents/GitHub/iris-evaluation/data\u001b[39m\u001b[38;5;124m'\u001b[39m)\n\u001b[1;32m      3\u001b[0m \u001b[38;5;28;01mfor\u001b[39;00m (ref_data, ref_name), (comp_data, comp_name) \u001b[38;5;129;01min\u001b[39;00m tqdm(\u001b[38;5;28mzip\u001b[39m(reference_loader, comparison_loader)):\n\u001b[1;32m      4\u001b[0m     \u001b[38;5;66;03m#print(f'REFERENCE_SHAPE: {ref_data.shape} | COMPARISON_SHAPE: {comp_data.shape}')\u001b[39;00m\n\u001b[1;32m      5\u001b[0m     \u001b[38;5;66;03m#print(f'REFERENCE_NAME: {ref_name} | COMPARISON_NAME: {ref_name}')\u001b[39;00m\n\u001b[1;32m      7\u001b[0m     comp_expanded \u001b[38;5;241m=\u001b[39m comp_data\u001b[38;5;241m.\u001b[39munsqueeze(\u001b[38;5;241m1\u001b[39m)\u001b[38;5;241m.\u001b[39mexpand(\u001b[38;5;241m-\u001b[39m\u001b[38;5;241m1\u001b[39m, ref_data\u001b[38;5;241m.\u001b[39mshape[\u001b[38;5;241m1\u001b[39m], \u001b[38;5;241m-\u001b[39m\u001b[38;5;241m1\u001b[39m)\n",
      "\u001b[0;31mNameError\u001b[0m: name 'CacheHandler' is not defined"
     ]
    }
   ],
   "source": [
    "Cache = LinearCache('/Users/roberthart/Documents/GitHub/iris-evaluation/data')\n",
    "\n",
    "for (ref_data, ref_name), (comp_data, comp_name) in tqdm(zip(reference_loader, comparison_loader)):\n",
    "    #print(f'REFERENCE_SHAPE: {ref_data.shape} | COMPARISON_SHAPE: {comp_data.shape}')\n",
    "    #print(f'REFERENCE_NAME: {ref_name} | COMPARISON_NAME: {ref_name}')\n",
    "    \n",
    "    comp_expanded = comp_data.unsqueeze(1).expand(-1, ref_data.shape[1], -1)\n",
    "    \n",
    "    xor_result = torch.bitwise_xor(ref_data, comp_expanded)\n",
    "    hamming_distances = xor_result.sum(dim=2)\n",
    "    min_hamming_distance, min_index = torch.min(hamming_distances, dim=1)\n",
    "\n",
    "    #inject this in production\n",
    "    Cache = LinearCache('/Users/roberthart/Documents/GitHub/iris-evaluation/data')\n",
    "\n",
    "    conditions = find_conditions(comp_name)\n",
    "    \n",
    "    for i in range(ref_data.shape[0]):\n",
    "        proto_string = f'{ref_name[i]}|{conditions[i]}'\n",
    "        Cache.new_line(f'{proto_string}', min_hamming_distance[i])\n",
    "\n",
    "Cache.save()\n",
    "Cache.clear()\n",
    "    "
   ]
  },
  {
   "cell_type": "code",
   "execution_count": 6,
   "id": "cd8e3c67-558c-40ea-bf82-6eeb371937a1",
   "metadata": {},
   "outputs": [],
   "source": [
    "import polars as pl\n",
    "df = pl.read_parquet(\"/Users/roberthart/Documents/GitHub/iris-evaluation/data/cache.parquet\")"
   ]
  },
  {
   "cell_type": "code",
   "execution_count": 7,
   "id": "94e801fe-0aef-4795-a95e-35168e375937",
   "metadata": {},
   "outputs": [
    {
     "data": {
      "text/html": [
       "<div><style>\n",
       ".dataframe > thead > tr,\n",
       ".dataframe > tbody > tr {\n",
       "  text-align: right;\n",
       "  white-space: pre-wrap;\n",
       "}\n",
       "</style>\n",
       "<small>shape: (1, 4)</small><table border=\"1\" class=\"dataframe\"><thead><tr><th>comparison</th><th>HD</th><th>img1</th><th>img2</th></tr><tr><td>str</td><td>i64</td><td>str</td><td>str</td></tr></thead><tbody><tr><td>&quot;02_997533+4|NA…</td><td>0</td><td>&quot;02_997533+4&quot;</td><td>&quot;NA&quot;</td></tr></tbody></table></div>"
      ],
      "text/plain": [
       "shape: (1, 4)\n",
       "┌────────────────┬─────┬─────────────┬──────┐\n",
       "│ comparison     ┆ HD  ┆ img1        ┆ img2 │\n",
       "│ ---            ┆ --- ┆ ---         ┆ ---  │\n",
       "│ str            ┆ i64 ┆ str         ┆ str  │\n",
       "╞════════════════╪═════╪═════════════╪══════╡\n",
       "│ 02_997533+4|NA ┆ 0   ┆ 02_997533+4 ┆ NA   │\n",
       "└────────────────┴─────┴─────────────┴──────┘"
      ]
     },
     "execution_count": 7,
     "metadata": {},
     "output_type": "execute_result"
    }
   ],
   "source": [
    "df"
   ]
  },
  {
   "cell_type": "code",
   "execution_count": null,
   "id": "bdf92bbd-6fde-433f-9b5a-82620d6042f5",
   "metadata": {},
   "outputs": [],
   "source": []
  }
 ],
 "metadata": {
  "kernelspec": {
   "display_name": "Python 3 (ipykernel)",
   "language": "python",
   "name": "python3"
  },
  "language_info": {
   "codemirror_mode": {
    "name": "ipython",
    "version": 3
   },
   "file_extension": ".py",
   "mimetype": "text/x-python",
   "name": "python",
   "nbconvert_exporter": "python",
   "pygments_lexer": "ipython3",
   "version": "3.10.4"
  }
 },
 "nbformat": 4,
 "nbformat_minor": 5
}
